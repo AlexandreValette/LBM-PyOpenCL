{
 "cells": [
  {
   "cell_type": "markdown",
   "metadata": {},
   "source": [
    "# Managing imports\n"
   ]
  },
  {
   "cell_type": "code",
   "execution_count": 1,
   "metadata": {
    "collapsed": true
   },
   "outputs": [],
   "source": [
    "import LBM_pygame\n",
    "import numpy as np"
   ]
  },
  {
   "cell_type": "markdown",
   "metadata": {},
   "source": [
    "# Define LBM parameters"
   ]
  },
  {
   "cell_type": "code",
   "execution_count": 2,
   "metadata": {
    "collapsed": true
   },
   "outputs": [],
   "source": [
    "nx = 512\n",
    "ny  = 256\n",
    "speedup = 1\n",
    "re = 1e4\n",
    "scale = 2\n",
    "\n",
    "# The id of the GPU plateform. If unkown, just try 0, 1, 2 until it works.\n",
    "# PS : It will work on CPU (but very slow)\n",
    "# PS : The name of the selected plateform will be displayed in the console\n",
    "platform_id = 2 "
   ]
  },
  {
   "cell_type": "markdown",
   "metadata": {},
   "source": [
    "# Run a computation"
   ]
  },
  {
   "cell_type": "code",
   "execution_count": 3,
   "metadata": {},
   "outputs": [
    {
     "name": "stdout",
     "output_type": "stream",
     "text": [
      "You ve selected the plateform : NVIDIA CUDA\n",
      "result: 114.94253540039062 FPS\n"
     ]
    }
   ],
   "source": [
    "# Load an engine\n",
    "engine = LBM_pygame.LBM_pygame(platform_id, nx = nx, ny = ny, scale=scale, re = re, speedup=speedup)\n",
    "engine.add_obstacle(filename=\"FlatPlane.txt\", x=nx/4, y = ny/2, rotation=45, scaling=0.14)\n",
    "engine.display(True)\n",
    "\n",
    "# Enable dye and add horizontal dye emitter\n",
    "engine.enable_dye(dye_freq=10/speedup)\n",
    "engine.add_dye_emitter(cx_min = 1, cx_max=2,  cy_min=int(ny/2), cy_max=int(ny/2)+3, value=1., life_dt=100 )\n",
    "\n",
    "# Run 10 time steps per frame\n",
    "engine.run(10) "
   ]
  },
  {
   "cell_type": "code",
   "execution_count": null,
   "metadata": {
    "collapsed": true
   },
   "outputs": [],
   "source": []
  }
 ],
 "metadata": {
  "kernelspec": {
   "display_name": "Python 3",
   "language": "python",
   "name": "python3"
  },
  "language_info": {
   "codemirror_mode": {
    "name": "ipython",
    "version": 3
   },
   "file_extension": ".py",
   "mimetype": "text/x-python",
   "name": "python",
   "nbconvert_exporter": "python",
   "pygments_lexer": "ipython3",
   "version": "3.6.3"
  }
 },
 "nbformat": 4,
 "nbformat_minor": 2
}
